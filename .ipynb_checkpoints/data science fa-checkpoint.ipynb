{
 "cells": [
  {
   "cell_type": "raw",
   "id": "84205063-3e25-4342-bb57-49a5cf6191f7",
   "metadata": {},
   "source": [
    "Q1- Explain the key featu$es of Python that make it a popular choice for programming?\n",
    "Python is most popular language for programming due to following reasons:\n",
    "1-Easy to learn\n",
    "2-Fast\n",
    "3-Used for automation\n",
    "4-Versatile\n",
    "5-Huge Libraries\n",
    "6-Has huge active communities\n",
    "7-General Purpose Language"
   ]
  },
  {
   "cell_type": "raw",
   "id": "27e5308f-5f4c-47f4-ab45-648a32704158",
   "metadata": {},
   "source": [
    "Q2- Describe the role of predefined keywords in Python and provide examples of how they are used in a\n",
    "progrrame?"
   ]
  },
  {
   "cell_type": "raw",
   "id": "56033172-f024-48ed-9f4c-e14126d7856b",
   "metadata": {},
   "source": [
    "There are lot of predefined keywords in python that have lot purpose eg:\n",
    "type()- To check the type of input eg..=string, int, float etc..\n",
    "print()-To print something etc...\n",
    "There are lot of python keywords below:"
   ]
  },
  {
   "cell_type": "code",
   "execution_count": 1,
   "id": "eb6fa0ca-5a8a-42d1-b3ff-a2b73bfb06e0",
   "metadata": {},
   "outputs": [
    {
     "name": "stdout",
     "output_type": "stream",
     "text": [
      "5\n",
      "\n",
      "Here is a list of the Python keywords.  Enter any keyword to get more help.\n",
      "\n",
      "False               class               from                or\n",
      "None                continue            global              pass\n",
      "True                def                 if                  raise\n",
      "and                 del                 import              return\n",
      "as                  elif                in                  try\n",
      "assert              else                is                  while\n",
      "async               except              lambda              with\n",
      "await               finally             nonlocal            yield\n",
      "break               for                 not                 \n",
      "\n"
     ]
    }
   ],
   "source": [
    "a=5\n",
    "type(a)\n",
    "print(a)\n",
    "help('keywords')"
   ]
  },
  {
   "cell_type": "raw",
   "id": "23aec73d-e795-49a7-9ccc-5c933349c9c9",
   "metadata": {},
   "source": [
    "Q3- Compare and contrast mutable and immutable objects in Python with example?"
   ]
  },
  {
   "cell_type": "raw",
   "id": "983daaa2-ff30-43b9-9386-cd7108cca703",
   "metadata": {},
   "source": [
    "Mutabe objecs are those that can be altered after execution. eg- list\n",
    "Immutable are those that can't be altered after execution eg- string \n",
    "Below are example:"
   ]
  },
  {
   "cell_type": "code",
   "execution_count": 2,
   "id": "04785bf7-99df-4557-93e8-7968d18b24dc",
   "metadata": {},
   "outputs": [
    {
     "data": {
      "text/plain": [
       "5"
      ]
     },
     "execution_count": 2,
     "metadata": {},
     "output_type": "execute_result"
    }
   ],
   "source": [
    "list=[1,4,5,9,\"ab\",\"data\"]\n",
    "list[2]"
   ]
  },
  {
   "cell_type": "code",
   "execution_count": 3,
   "id": "1011994e-3a8f-4832-8fa9-cae01fb4cb11",
   "metadata": {},
   "outputs": [
    {
     "data": {
      "text/plain": [
       "10"
      ]
     },
     "execution_count": 3,
     "metadata": {},
     "output_type": "execute_result"
    }
   ],
   "source": [
    "list[2]=10\n",
    "list[2]"
   ]
  },
  {
   "cell_type": "code",
   "execution_count": 4,
   "id": "efa56c85-6c36-4e98-8d58-42a3405aec38",
   "metadata": {},
   "outputs": [
    {
     "data": {
      "text/plain": [
       "'t'"
      ]
     },
     "execution_count": 4,
     "metadata": {},
     "output_type": "execute_result"
    }
   ],
   "source": [
    "a=\"data\"\n",
    "a[2]"
   ]
  },
  {
   "cell_type": "code",
   "execution_count": 5,
   "id": "d1af8451-07bb-46ff-bcc6-0e89529e76d4",
   "metadata": {},
   "outputs": [
    {
     "ename": "TypeError",
     "evalue": "'str' object does not support item assignment",
     "output_type": "error",
     "traceback": [
      "\u001b[0;31m---------------------------------------------------------------------------\u001b[0m",
      "\u001b[0;31mTypeError\u001b[0m                                 Traceback (most recent call last)",
      "Cell \u001b[0;32mIn[5], line 1\u001b[0m\n\u001b[0;32m----> 1\u001b[0m \u001b[43ma\u001b[49m\u001b[43m[\u001b[49m\u001b[38;5;241;43m2\u001b[39;49m\u001b[43m]\u001b[49m\u001b[38;5;241m=\u001b[39m\u001b[38;5;124m\"\u001b[39m\u001b[38;5;124mr\u001b[39m\u001b[38;5;124m\"\u001b[39m\n",
      "\u001b[0;31mTypeError\u001b[0m: 'str' object does not support item assignment"
     ]
    }
   ],
   "source": [
    "a[2]=\"r\""
   ]
  },
  {
   "cell_type": "raw",
   "id": "ed116006-11e5-439f-b0ce-bf3c467474e7",
   "metadata": {},
   "source": [
    "Q4- Discuss the different types of operators in Python and provide examples of how they are used?"
   ]
  },
  {
   "cell_type": "raw",
   "id": "9087dfca-85ea-429a-86a0-f56559e98a16",
   "metadata": {},
   "source": [
    "There are lot of operators in python to perform vaious operations like:\n",
    "1 Arithmatic Operator= Addition, subtraction, modulus, multiply, division."
   ]
  },
  {
   "cell_type": "code",
   "execution_count": 7,
   "id": "caaf7a0a-584c-4cf9-873e-78fdeed25c74",
   "metadata": {},
   "outputs": [
    {
     "data": {
      "text/plain": [
       "11"
      ]
     },
     "execution_count": 7,
     "metadata": {},
     "output_type": "execute_result"
    }
   ],
   "source": [
    "5+6"
   ]
  },
  {
   "cell_type": "raw",
   "id": "9322e5c6-58a7-4f79-a2ac-c184a64f3c43",
   "metadata": {},
   "source": [
    "2 Logic Operator= Add, OR"
   ]
  },
  {
   "cell_type": "code",
   "execution_count": 9,
   "id": "7d26c13d-cd81-4793-8d46-184499dfe2e5",
   "metadata": {},
   "outputs": [
    {
     "name": "stdout",
     "output_type": "stream",
     "text": [
      "data science\n"
     ]
    }
   ],
   "source": [
    "if 5>4 and 3>2:\n",
    "    print(\"data science\")"
   ]
  },
  {
   "cell_type": "raw",
   "id": "66cac882-dc99-41ea-b252-5cb1b4b27cad",
   "metadata": {},
   "source": [
    "3 Comparison Operator \n",
    "used to compare 2 values:\n",
    ">,>=,==,<= etc.."
   ]
  },
  {
   "cell_type": "raw",
   "id": "69bad665-7bd2-4d3a-ac7c-2b1499bc03c8",
   "metadata": {},
   "source": [
    "4 Membership Operator \n",
    "It is used to check whether some value is present in string, int etcc..."
   ]
  },
  {
   "cell_type": "code",
   "execution_count": 10,
   "id": "b5887283-a08d-422a-a071-94865f321779",
   "metadata": {},
   "outputs": [
    {
     "data": {
      "text/plain": [
       "True"
      ]
     },
     "execution_count": 10,
     "metadata": {},
     "output_type": "execute_result"
    }
   ],
   "source": [
    "a=\"pwskills\"\n",
    "\"w\"in a"
   ]
  },
  {
   "cell_type": "raw",
   "id": "23e0ad0e-c780-421e-bf90-ce9d7a38c8b4",
   "metadata": {},
   "source": [
    "5 Bitwise Operator \n",
    "It is used to manipulate values at bit level i.e 0,1 level -- &,|,^,>>,<< etc.."
   ]
  },
  {
   "cell_type": "code",
   "execution_count": 11,
   "id": "279f02e3-204a-4979-916a-7de344383472",
   "metadata": {},
   "outputs": [
    {
     "data": {
      "text/plain": [
       "10"
      ]
     },
     "execution_count": 11,
     "metadata": {},
     "output_type": "execute_result"
    }
   ],
   "source": [
    "10&10 "
   ]
  },
  {
   "cell_type": "raw",
   "id": "9cd0b33c-1c92-4c52-8359-efa03f71439b",
   "metadata": {},
   "source": [
    "Q5- Explain the concept of type casting in Python with examples?"
   ]
  },
  {
   "cell_type": "raw",
   "id": "51f71105-b87d-4057-bafb-994d0dc594f7",
   "metadata": {},
   "source": [
    "Type casting is used to change the type of value e.g changing int to string, float to int etc.."
   ]
  },
  {
   "cell_type": "code",
   "execution_count": 12,
   "id": "a7f7c05f-35f3-4af5-b533-6720f248db0c",
   "metadata": {},
   "outputs": [
    {
     "data": {
      "text/plain": [
       "str"
      ]
     },
     "execution_count": 12,
     "metadata": {},
     "output_type": "execute_result"
    }
   ],
   "source": [
    "a=\"5\"\n",
    "type(a)"
   ]
  },
  {
   "cell_type": "code",
   "execution_count": 13,
   "id": "85d2861e-b5f5-4c60-8c1a-8af9affff2bc",
   "metadata": {},
   "outputs": [
    {
     "data": {
      "text/plain": [
       "int"
      ]
     },
     "execution_count": 13,
     "metadata": {},
     "output_type": "execute_result"
    }
   ],
   "source": [
    "a=int(a)\n",
    "type(a)"
   ]
  },
  {
   "cell_type": "code",
   "execution_count": 14,
   "id": "b7c8ac8d-e7bf-482f-9f33-85e383ae0c57",
   "metadata": {},
   "outputs": [
    {
     "data": {
      "text/plain": [
       "float"
      ]
     },
     "execution_count": 14,
     "metadata": {},
     "output_type": "execute_result"
    }
   ],
   "source": [
    "b=5.66\n",
    "type(b)"
   ]
  },
  {
   "cell_type": "code",
   "execution_count": 16,
   "id": "f3608615-d42d-4eb9-94d6-cb9b83137f06",
   "metadata": {},
   "outputs": [
    {
     "data": {
      "text/plain": [
       "int"
      ]
     },
     "execution_count": 16,
     "metadata": {},
     "output_type": "execute_result"
    }
   ],
   "source": [
    "b=int(b)\n",
    "type(b)"
   ]
  },
  {
   "cell_type": "raw",
   "id": "8bdadc11-d5ef-4586-886f-3a890b6e106a",
   "metadata": {},
   "source": [
    "Q6-  How do conditional statements work in Python, Illustrate with examples?"
   ]
  },
  {
   "cell_type": "raw",
   "id": "7f1f5e19-f24a-442a-b457-3ab6afc164f0",
   "metadata": {},
   "source": [
    "Conditional statements are used to define specific logic in python by assuming some pre conditions\n",
    "eg= if, if-else, if-elif-else, nested if-else"
   ]
  },
  {
   "cell_type": "code",
   "execution_count": 17,
   "id": "91ed76d0-0660-4471-82c4-bff1f7338da6",
   "metadata": {},
   "outputs": [
    {
     "name": "stdin",
     "output_type": "stream",
     "text": [
      "Enter Marks 55\n"
     ]
    },
    {
     "name": "stdout",
     "output_type": "stream",
     "text": [
      "Grade C\n"
     ]
    }
   ],
   "source": [
    "marks=int(input(\"Enter Marks\"))\n",
    "if marks>=90:           #if-else statement to calculate grade\n",
    "    print(\"Grade A\")\n",
    "elif 60<=marks<90:\n",
    "    print(\"Grade B\")\n",
    "elif 33<=marks<60:\n",
    "    print(\"Grade C\")\n",
    "else:\n",
    "    print(\"Fail\")"
   ]
  },
  {
   "cell_type": "code",
   "execution_count": 18,
   "id": "4baaa2aa-aca6-4df7-9167-7ed2a3feb9c5",
   "metadata": {},
   "outputs": [
    {
     "name": "stdout",
     "output_type": "stream",
     "text": [
      "0\n",
      "2\n",
      "4\n",
      "6\n",
      "8\n"
     ]
    }
   ],
   "source": [
    "for i in range(10):\n",
    "    if (i%2)==0:   #if statement to print even numbers \n",
    "        print(i)"
   ]
  },
  {
   "cell_type": "raw",
   "id": "10a4e6be-c56e-4dbd-a69d-040ad773a032",
   "metadata": {},
   "source": [
    "Q7- Describe the different types of loops in Python and their use cases with examples."
   ]
  },
  {
   "cell_type": "raw",
   "id": "2b86bf08-b645-4af0-b188-2b4fe24d85fc",
   "metadata": {},
   "source": [
    "There are two type of loops in python:\n",
    "for loop \n",
    "while loop \n",
    "Both loops are very important to implement statements with some conditions like how many times etc.."
   ]
  },
  {
   "cell_type": "code",
   "execution_count": 19,
   "id": "b2615773-2b75-4a7a-8eff-f22c47493a18",
   "metadata": {},
   "outputs": [
    {
     "name": "stdout",
     "output_type": "stream",
     "text": [
      "d\n",
      "a\n",
      "t\n",
      "a\n",
      " \n",
      "s\n",
      "c\n",
      "e\n",
      "i\n",
      "n\n",
      "c\n",
      "e\n"
     ]
    }
   ],
   "source": [
    "a=\"data sceince\"\n",
    "for i in a:\n",
    "    print(i)"
   ]
  },
  {
   "cell_type": "code",
   "execution_count": 20,
   "id": "40ee79ae-6b5f-4542-94dc-d8d793afa4d0",
   "metadata": {},
   "outputs": [
    {
     "name": "stdout",
     "output_type": "stream",
     "text": [
      "*\n",
      "**\n",
      "***\n",
      "****\n"
     ]
    }
   ],
   "source": [
    "for i in range(4):\n",
    "    for j in range(i+1):\n",
    "        print(\"*\",end=\"\")   #loops can be used to print lot of patterns like right angle triangle\n",
    "    print()"
   ]
  },
  {
   "cell_type": "code",
   "execution_count": null,
   "id": "60a6c79d-637f-4a9b-88d0-682051841650",
   "metadata": {},
   "outputs": [],
   "source": []
  }
 ],
 "metadata": {
  "kernelspec": {
   "display_name": "Python 3 (ipykernel)",
   "language": "python",
   "name": "python3"
  },
  "language_info": {
   "codemirror_mode": {
    "name": "ipython",
    "version": 3
   },
   "file_extension": ".py",
   "mimetype": "text/x-python",
   "name": "python",
   "nbconvert_exporter": "python",
   "pygments_lexer": "ipython3",
   "version": "3.10.8"
  }
 },
 "nbformat": 4,
 "nbformat_minor": 5
}
